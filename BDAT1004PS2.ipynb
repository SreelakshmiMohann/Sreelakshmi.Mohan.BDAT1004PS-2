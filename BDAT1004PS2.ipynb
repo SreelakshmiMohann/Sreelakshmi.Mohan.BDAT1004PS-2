{
 "cells": [
  {
   "cell_type": "markdown",
   "id": "bfe9620a",
   "metadata": {},
   "source": [
    "# QUESTION 1\n",
    "\n",
    "Solution : \n",
    "\n",
    "In question 1, variable 'a' is defined as a global variable. \n",
    "\n",
    "During the first function call i.e b(), the value of a will be '2'(i.e 0+2). \n",
    "For the second function call, the value of a will be '4' (i.e 2+2).\n",
    "For the third function call, value of a will be 6 (i.e 4+2).\n",
    "\n",
    "Now the value of a is 6. So it will display 6 when value of a is evaluated."
   ]
  },
  {
   "cell_type": "code",
   "execution_count": 10,
   "id": "0bf986bc",
   "metadata": {},
   "outputs": [
    {
     "data": {
      "text/plain": [
       "6"
      ]
     },
     "execution_count": 10,
     "metadata": {},
     "output_type": "execute_result"
    }
   ],
   "source": [
    "a = 0;\n",
    "def b():\n",
    "    global a;\n",
    "    a = c(a);\n",
    "def c(a):\n",
    "    return a + 2;\n",
    "\n",
    "b()\n",
    "b()\n",
    "b()\n",
    "a"
   ]
  },
  {
   "cell_type": "markdown",
   "id": "df89cb04",
   "metadata": {},
   "source": [
    "# QUESTION 2\n",
    "\n",
    "Note: Modified the file_length() function given by adding a try-except block."
   ]
  },
  {
   "cell_type": "code",
   "execution_count": 2,
   "id": "294a4713",
   "metadata": {},
   "outputs": [
    {
     "name": "stdout",
     "output_type": "stream",
     "text": [
      "358\n",
      "File idterm.py not found.\n"
     ]
    }
   ],
   "source": [
    "def file_length(file_name):\n",
    "    try:\n",
    "        file = open(file_name);\n",
    "        contents = file.read();\n",
    "        file.close();\n",
    "        print(len(contents));\n",
    "    except:\n",
    "        print(\"File \"+file_name+\" not found.\");\n",
    "        \n",
    "if __name__ == '__main__':\n",
    "    file_length(\"midterm.py\");\n",
    "    file_length(\"idterm.py\");"
   ]
  },
  {
   "cell_type": "markdown",
   "id": "21d1d7e8",
   "metadata": {},
   "source": [
    "# QUESTION 3"
   ]
  },
  {
   "cell_type": "code",
   "execution_count": 11,
   "id": "9ba8d8d0",
   "metadata": {},
   "outputs": [],
   "source": [
    "# Marsupial class - parent class\n",
    "class Marsupial:                    \n",
    "    def __init__(self):      \n",
    "        self.itemList=[] ;                  \n",
    "             \n",
    "    def put_in_pouch(self,collections):  \n",
    "        self.itemList.append(collections);\n",
    "        \n",
    "    def pouch_contents(self):           \n",
    "        return self.itemList;\n",
    "    \n",
    "# Child class\n",
    "class Kangaroo(Marsupial):        \n",
    "    def __init__(self,x,y):              \n",
    "        super().__init__()     \n",
    "        self.dx = 0;                    \n",
    "        self.dy = 0;                     \n",
    "    \n",
    "    def jump(self,x,y):                 \n",
    "        self.dx = self.dx + x;   \n",
    "        self.dy = self.dy + y;\n",
    "    \n",
    "    def __str__(self):          \n",
    "         return ('I am a Kangaroo located at coordinates ('+str(self.dx)+','+str(self.dy)+')');"
   ]
  },
  {
   "cell_type": "code",
   "execution_count": 12,
   "id": "2706de1a",
   "metadata": {},
   "outputs": [
    {
     "data": {
      "text/plain": [
       "['doll', 'firetruck', 'kitten']"
      ]
     },
     "execution_count": 12,
     "metadata": {},
     "output_type": "execute_result"
    }
   ],
   "source": [
    "m = Marsupial()\n",
    "m.put_in_pouch('doll')\n",
    "m.put_in_pouch('firetruck')\n",
    "m.put_in_pouch('kitten')\n",
    "m.pouch_contents()"
   ]
  },
  {
   "cell_type": "code",
   "execution_count": 7,
   "id": "36b780e1",
   "metadata": {},
   "outputs": [
    {
     "name": "stdout",
     "output_type": "stream",
     "text": [
      "I am a Kangaroo located at coordinates (0,0)\n",
      "I am a Kangaroo located at coordinates (3,0)\n"
     ]
    }
   ],
   "source": [
    "k = Kangaroo(0,0);\n",
    "print(k);\n",
    "k.put_in_pouch('doll');\n",
    "k.put_in_pouch('firetruck');\n",
    "k.put_in_pouch('kitten');\n",
    "k.pouch_contents();\n",
    "k.jump(1,0);\n",
    "k.jump(1,0);\n",
    "k.jump(1,0);\n",
    "print(k);"
   ]
  },
  {
   "cell_type": "markdown",
   "id": "8d882648",
   "metadata": {},
   "source": [
    "# QUESTION 4"
   ]
  },
  {
   "cell_type": "code",
   "execution_count": 13,
   "id": "0f9dd6e1",
   "metadata": {},
   "outputs": [
    {
     "name": "stdout",
     "output_type": "stream",
     "text": [
      "1\n"
     ]
    }
   ],
   "source": [
    "def collatz(x):\n",
    "    if(x == 1):\n",
    "            print(x);\n",
    "    else:\n",
    "        print(x);\n",
    "        if(x%2 == 0):\n",
    "            x //= 2;\n",
    "            collatz(x) ;\n",
    "        else:\n",
    "            x= (3*x) + 1;\n",
    "            collatz(x);\n",
    "            \n",
    "            \n",
    "if __name__ == '__main__':\n",
    "    collatz(1)"
   ]
  },
  {
   "cell_type": "code",
   "execution_count": 14,
   "id": "69d5d2bb",
   "metadata": {},
   "outputs": [
    {
     "name": "stdout",
     "output_type": "stream",
     "text": [
      "10\n",
      "5\n",
      "16\n",
      "8\n",
      "4\n",
      "2\n",
      "1\n"
     ]
    }
   ],
   "source": [
    "collatz(10)"
   ]
  },
  {
   "cell_type": "markdown",
   "id": "e13fbc6a",
   "metadata": {},
   "source": [
    "# QUESTION 5"
   ]
  },
  {
   "cell_type": "code",
   "execution_count": 15,
   "id": "066e621c",
   "metadata": {},
   "outputs": [],
   "source": [
    "def binary(num):\n",
    "    if(num == 0):\n",
    "        return 0;\n",
    "    else :\n",
    "        return (num % 2 + 10 * binary(num // 2));"
   ]
  },
  {
   "cell_type": "code",
   "execution_count": 16,
   "id": "85649836",
   "metadata": {},
   "outputs": [
    {
     "data": {
      "text/plain": [
       "0"
      ]
     },
     "execution_count": 16,
     "metadata": {},
     "output_type": "execute_result"
    }
   ],
   "source": [
    "binary(0)"
   ]
  },
  {
   "cell_type": "code",
   "execution_count": 17,
   "id": "090ff39c",
   "metadata": {},
   "outputs": [
    {
     "data": {
      "text/plain": [
       "1"
      ]
     },
     "execution_count": 17,
     "metadata": {},
     "output_type": "execute_result"
    }
   ],
   "source": [
    "binary(1)"
   ]
  },
  {
   "cell_type": "code",
   "execution_count": 18,
   "id": "25d88d66",
   "metadata": {},
   "outputs": [
    {
     "data": {
      "text/plain": [
       "11"
      ]
     },
     "execution_count": 18,
     "metadata": {},
     "output_type": "execute_result"
    }
   ],
   "source": [
    "binary(3)"
   ]
  },
  {
   "cell_type": "code",
   "execution_count": 19,
   "id": "1cd578f7",
   "metadata": {},
   "outputs": [
    {
     "data": {
      "text/plain": [
       "1001"
      ]
     },
     "execution_count": 19,
     "metadata": {},
     "output_type": "execute_result"
    }
   ],
   "source": [
    "binary(9)"
   ]
  },
  {
   "cell_type": "markdown",
   "id": "7bba04ff",
   "metadata": {},
   "source": [
    "# QUESTION 6"
   ]
  },
  {
   "cell_type": "code",
   "execution_count": null,
   "id": "9ada65a1",
   "metadata": {},
   "outputs": [],
   "source": [
    "from html.parser import HTMLParser\n",
    "class HeadingParser(): \n",
    "    a = b = 'False';\n",
    "    def handle_starttag(self, tag, attrs):\n",
    "        \n",
    "    def handle_endtag(self, tag):\n",
    "      \n",
    "    def handle_data(self, data):\n",
    "       \n",
    "    \n",
    "    \n",
    "if __name__ == '__main__':\n",
    "    infile = open('w3c.html');\n",
    "    content = infile.read();\n",
    "    infile.close();\n",
    "    hp = HeadingParser();\n",
    "    hp.feed(content);"
   ]
  },
  {
   "cell_type": "markdown",
   "id": "ef6f36c4",
   "metadata": {},
   "source": [
    "# QUESTION 7"
   ]
  },
  {
   "cell_type": "code",
   "execution_count": null,
   "id": "354b5c19",
   "metadata": {},
   "outputs": [],
   "source": [
    "from html.parser import HTMLParser\n",
    "webdir('http://reed.cs.depaul.edu/lperkovic/csc242/test1.html', 2, 0);"
   ]
  },
  {
   "cell_type": "markdown",
   "id": "f98c210b",
   "metadata": {},
   "source": [
    "# QUESTION 8\n",
    "\n",
    "Note: Reference link - https://www.digitalocean.com/community/tutorials/how-to-use-the-sqlite3-module-in-python-3"
   ]
  },
  {
   "cell_type": "code",
   "execution_count": 20,
   "id": "9aff67a4",
   "metadata": {},
   "outputs": [
    {
     "name": "stdout",
     "output_type": "stream",
     "text": [
      "a. All the temperature data.\n",
      "(24.8,)\n",
      "(28.4,)\n",
      "(27.9,)\n",
      "(27.6,)\n",
      "(4.2,)\n",
      "(8.3,)\n",
      "(15.7,)\n",
      "(10.4,)\n",
      "(13.6,)\n",
      "(20.7,)\n",
      "(27.7,)\n",
      "(22.2,)\n",
      "\n",
      "\n",
      "b. All the cities, but without repetition.\n",
      "('Mumbai',)\n",
      "('London',)\n",
      "('Cairo',)\n",
      "\n",
      "\n",
      "c. All the records for India.\n",
      "('Mumbai', 'India', 'Winter', 24.8, 5.9)\n",
      "('Mumbai', 'India', 'Spring', 28.4, 16.2)\n",
      "('Mumbai', 'India', 'Summer', 27.9, 1549.4)\n",
      "('Mumbai', 'India', 'Fall', 27.6, 346)\n",
      "\n",
      "\n",
      "d. All the Fall records.\n",
      "('Mumbai', 'India', 'Fall', 27.6, 346)\n",
      "('London', 'United Kingdom', 'Fall', 10.4, 218.5)\n",
      "('Cairo', 'Egypt', 'Fall', 22.2, 4.5)\n",
      "\n",
      "\n",
      "e. The city, country, and season for which the average rainfall is between 200 and 400 millimeters.\n",
      "('Mumbai', 'India', 'Fall')\n",
      "('London', 'United Kingdom', 'Winter')\n",
      "('London', 'United Kingdom', 'Fall')\n",
      "\n",
      "\n",
      "f. The city and country for which the average Fall temperature is above 20 degrees, in increasing temperature order.\n",
      "('Cairo', 'Egypt')\n",
      "('Mumbai', 'India')\n",
      "\n",
      "\n",
      "g. The total annual rainfall for Cairo.\n",
      "(27.6,)\n",
      "\n",
      "\n",
      "h. The total rainfall for each season.\n",
      "('Fall', 569.0)\n",
      "('Spring', 192.29999999999998)\n",
      "('Summer', 1706.5)\n",
      "('Winter', 230.1)\n"
     ]
    }
   ],
   "source": [
    "import sqlite3;\n",
    "conn = sqlite3.connect('weatherdata.db');\n",
    "# Create table weather\n",
    "conn.execute('''\n",
    "CREATE TABLE IF NOT EXISTS weather(city string, \n",
    "                      country string, \n",
    "                      season string, \n",
    "                      temperature integer,\n",
    "                      rainfall integer);''');\n",
    "conn.commit();\n",
    "cursor = conn.cursor();\n",
    "# Entering values into eac row in the table weather\n",
    "conn.execute(\"INSERT INTO weather VALUES('Mumbai', 'India', 'Winter', 24.8, 5.9);\");\n",
    "conn.execute(\"INSERT INTO weather VALUES('Mumbai', 'India', 'Spring', 28.4, 16.2);\");\n",
    "conn.execute(\"INSERT INTO weather VALUES('Mumbai', 'India', 'Summer', 27.9, 1549.4);\");\n",
    "conn.execute(\"INSERT INTO weather VALUES('Mumbai', 'India', 'Fall', 27.6, 346.0);\");\n",
    "conn.execute(\"INSERT INTO weather VALUES('London', 'United Kingdom', 'Winter', 4.2, 207.7);\");\n",
    "conn.execute(\"INSERT INTO weather VALUES('London', 'United Kingdom', 'Spring', 8.3, 169.6 );\");\n",
    "conn.execute(\"INSERT INTO weather VALUES('London', 'United Kingdom', 'Summer', 15.7, 157.0);\");\n",
    "conn.execute(\"INSERT INTO weather VALUES('London', 'United Kingdom', 'Fall', 10.4, 218.5);\");\n",
    "conn.execute(\"INSERT INTO weather VALUES('Cairo', 'Egypt', 'Winter', 13.6, 16.5);\");\n",
    "conn.execute(\"INSERT INTO weather VALUES('Cairo', 'Egypt', 'Spring', 20.7, 6.5);\");\n",
    "conn.execute(\"INSERT INTO weather VALUES('Cairo', 'Egypt', 'Summer', 27.7, 0.1);\");\n",
    "conn.execute(\"INSERT INTO weather VALUES('Cairo', 'Egypt', 'Fall', 22.2, 4.5);\");\n",
    "\n",
    "print(\"a. All the temperature data.\");\n",
    "output = cursor.execute(\"SELECT temperature from weather\").fetchall();             \n",
    "for i in output:\n",
    "    print(i);\n",
    "print(\"\\n\");\n",
    "\n",
    "print(\"b. All the cities, but without repetition.\");\n",
    "output = cursor.execute(\"SELECT DISTINCT(city) from weather\").fetchall();\n",
    "for i in output:                         \n",
    "    print(i);\n",
    "print(\"\\n\");\n",
    "\n",
    "print(\"c. All the records for India.\");\n",
    "output = cursor.execute(\"SELECT * from weather WHERE country = 'India'\").fetchall();\n",
    "for i in output:                            \n",
    "    print(i);\n",
    "print(\"\\n\");\n",
    "\n",
    "print(\"d. All the Fall records.\");\n",
    "output = cursor.execute(\"SELECT * from weather WHERE season = 'Fall'\").fetchall();\n",
    "for i in output:                            \n",
    "    print(i);\n",
    "print(\"\\n\");\n",
    "\n",
    "print(\"e. The city, country, and season for which the average rainfall is between 200 and 400 millimeters.\");\n",
    "output = cursor.execute(\"SELECT city,country,season from weather WHERE rainfall BETWEEN 200 and 400\").fetchall();\n",
    "for i in output:                                \n",
    "    print(i);\n",
    "print(\"\\n\");\n",
    "\n",
    "print(\"f. The city and country for which the average Fall temperature is above 20 degrees, in increasing temperature order.\");\n",
    "output = cursor.execute(\"SELECT city,country from weather WHERE (season = 'Fall' and temperature > 20) Order BY temperature ASC \").fetchall();\n",
    "for i in output:                             \n",
    "    print(i);\n",
    "print(\"\\n\");\n",
    "\n",
    "print(\"g. The total annual rainfall for Cairo.\");\n",
    "output = cursor.execute(\"SELECT SUM(rainfall) from weather WHERE city = 'Cairo'\").fetchall();\n",
    "for i in output:\n",
    "    print(i); \n",
    "print(\"\\n\");\n",
    "\n",
    "print(\"h. The total rainfall for each season.\");\n",
    "output = cursor.execute(\"SELECT season, SUM(rainfall) from weather GROUP BY season\").fetchall();\n",
    "for i in output:                                \n",
    "    print(i);\n",
    "\n",
    "conn.close();"
   ]
  },
  {
   "cell_type": "markdown",
   "id": "56effb54",
   "metadata": {},
   "source": [
    "# QUESTION 9\n",
    "\n",
    "Note: Reference link - https://medium.com/@gilwellm/ho-to-convert-a-list-into-upper-or-lowercase-in-python-3-f2c4bbb71e5a"
   ]
  },
  {
   "cell_type": "code",
   "execution_count": 21,
   "id": "ae675f36",
   "metadata": {},
   "outputs": [
    {
     "name": "stdout",
     "output_type": "stream",
     "text": [
      "List of words in upper case: \n",
      "['THE', 'QUICK', 'BROWN', 'FOX', 'JUMPS', 'OVER', 'THE', 'LAZY', 'DOG']\n",
      "\n",
      "\n",
      "List of words in lower case: \n",
      "['the', 'quick', 'brown', 'fox', 'jumps', 'over', 'the', 'lazy', 'dog']\n",
      "\n",
      "\n",
      "Length of words in the list: \n",
      "[3, 5, 5, 3, 5, 4, 3, 4, 3]\n",
      "\n",
      "\n",
      "List of words in upper case, lower case and length of words in a separate list: \n",
      "[['THE', 'the', 3], ['QUICK', 'quick', 5], ['BROWN', 'brown', 5], ['FOX', 'fox', 3], ['JUMPS', 'jumps', 5], ['OVER', 'over', 4], ['THE', 'the', 3], ['LAZY', 'lazy', 4], ['DOG', 'dog', 3]]\n",
      "\n",
      "\n",
      "The list of words in list words containing 4 or more characters \n",
      "['quick', 'brown', 'jumps', 'over', 'lazy']\n"
     ]
    }
   ],
   "source": [
    "words = ['The', 'quick', 'brown', 'fox', 'jumps', 'over', 'the', 'lazy', 'dog'];\n",
    "print(\"List of words in upper case: \");\n",
    "upperList = [a.upper() for a in words];\n",
    "print(upperList);\n",
    "print(\"\\n\");\n",
    "print(\"List of words in lower case: \");\n",
    "lowerList = [a.lower() for a in words];\n",
    "print(lowerList);\n",
    "print(\"\\n\");\n",
    "print(\"Length of words in the list: \");\n",
    "length = [len(a) for a in words];\n",
    "print(length);\n",
    "print(\"\\n\");\n",
    "print(\"List of words in upper case, lower case and length of words in a separate list: \");\n",
    "word_List1 = [[a.upper(), a.lower(), len(a)]for a in words];\n",
    "print(word_List1);\n",
    "print(\"\\n\");\n",
    "print(\"The list of words in list words containing 4 or more characters \");\n",
    "words_List2 = [a for a in words if len(a) >= 4];\n",
    "print(words_List2);"
   ]
  },
  {
   "cell_type": "code",
   "execution_count": null,
   "id": "45c118b5",
   "metadata": {},
   "outputs": [],
   "source": []
  }
 ],
 "metadata": {
  "kernelspec": {
   "display_name": "Python 3 (ipykernel)",
   "language": "python",
   "name": "python3"
  },
  "language_info": {
   "codemirror_mode": {
    "name": "ipython",
    "version": 3
   },
   "file_extension": ".py",
   "mimetype": "text/x-python",
   "name": "python",
   "nbconvert_exporter": "python",
   "pygments_lexer": "ipython3",
   "version": "3.9.12"
  }
 },
 "nbformat": 4,
 "nbformat_minor": 5
}
